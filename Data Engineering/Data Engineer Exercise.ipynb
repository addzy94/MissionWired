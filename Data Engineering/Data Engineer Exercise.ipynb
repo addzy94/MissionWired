{
 "cells": [
  {
   "cell_type": "code",
   "execution_count": 1,
   "id": "2f7f8d2c",
   "metadata": {},
   "outputs": [],
   "source": [
    "# Imports\n",
    "import pandas as pd\n",
    "import numpy as np"
   ]
  },
  {
   "cell_type": "code",
   "execution_count": 2,
   "id": "051cb90f",
   "metadata": {},
   "outputs": [],
   "source": [
    "# Load Datasets\n",
    "cons_df = pd.read_csv(\"cons.csv\")\n",
    "cons_email_df = pd.read_csv(\"cons_email.csv\")\n",
    "cons_subscription_df = pd.read_csv(\"cons_email_chapter_subscription.csv\")"
   ]
  },
  {
   "cell_type": "code",
   "execution_count": 3,
   "id": "94078040",
   "metadata": {},
   "outputs": [],
   "source": [
    "# Question I\n",
    "people_intermediate_df = pd.merge(cons_df[[\"cons_id\", \"source\", \"create_dt\", \"modified_dt\"]],\n",
    "                                  cons_email_df[[\"cons_id\", \"cons_email_id\", \"email\", \"is_primary\"]],\n",
    "                                  on=[\"cons_id\"])\n",
    "\n",
    "people_df = pd.merge(people_intermediate_df,\n",
    "                     cons_subscription_df[[\"cons_email_id\", \"isunsub\"]],\n",
    "                     on=[\"cons_email_id\"])"
   ]
  },
  {
   "cell_type": "code",
   "execution_count": 4,
   "id": "88007821",
   "metadata": {},
   "outputs": [],
   "source": [
    "# Helper function to check if the primary address is unsubscribed\n",
    "def _is_unsub(row):\n",
    "    if row[\"is_primary\"] == 1 and row[\"isunsub\"] == 1:\n",
    "        return True\n",
    "    else:\n",
    "        return None"
   ]
  },
  {
   "cell_type": "code",
   "execution_count": 12,
   "id": "2fb7560b",
   "metadata": {},
   "outputs": [],
   "source": [
    "# Modifying select columns to adhere to requirements\n",
    "people_df[\"is_unsub\"] = people_df.apply(_is_unsub, axis=1)\n",
    "people_df = people_df.rename(columns={\"modified_dt\" : \"updated_dt\", \"source\": \"code\"})"
   ]
  },
  {
   "cell_type": "code",
   "execution_count": 14,
   "id": "b3bff1bb",
   "metadata": {},
   "outputs": [],
   "source": [
    "# Writing to people.csv file\n",
    "people_df.to_csv(\"people.csv\", \n",
    "                 columns=[\"email\", \"code\", \"is_unsub\", \"create_dt\", \"updated_dt\"],\n",
    "                 index=False)"
   ]
  },
  {
   "cell_type": "code",
   "execution_count": 15,
   "id": "c31429eb",
   "metadata": {},
   "outputs": [],
   "source": [
    "# Question II\n",
    "people_df = pd.read_csv(\"people.csv\")"
   ]
  },
  {
   "cell_type": "code",
   "execution_count": 18,
   "id": "9cbf2096",
   "metadata": {},
   "outputs": [],
   "source": [
    "# Creating acquisition date column\n",
    "people_df[\"acquisition_date\"] = pd.to_datetime(people_df[\"create_dt\"]).dt.date"
   ]
  },
  {
   "cell_type": "code",
   "execution_count": 30,
   "id": "d3fc6632",
   "metadata": {},
   "outputs": [],
   "source": [
    "# Getting the counts\n",
    "acquisition_facts_df = people_df.value_counts([\"acquisition_date\"]).reset_index(name=\"acquisitions\")"
   ]
  },
  {
   "cell_type": "code",
   "execution_count": 31,
   "id": "26dbcdf0",
   "metadata": {},
   "outputs": [],
   "source": [
    "# Writing the `acquisition_facts.csv`\n",
    "acquisition_facts_df.to_csv(\"acquisition_facts.csv\", index=False)"
   ]
  }
 ],
 "metadata": {
  "kernelspec": {
   "display_name": "Python 3 (ipykernel)",
   "language": "python",
   "name": "python3"
  },
  "language_info": {
   "codemirror_mode": {
    "name": "ipython",
    "version": 3
   },
   "file_extension": ".py",
   "mimetype": "text/x-python",
   "name": "python",
   "nbconvert_exporter": "python",
   "pygments_lexer": "ipython3",
   "version": "3.8.8"
  }
 },
 "nbformat": 4,
 "nbformat_minor": 5
}
